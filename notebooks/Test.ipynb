{
 "cells": [
  {
   "cell_type": "code",
   "execution_count": 1,
   "metadata": {},
   "outputs": [],
   "source": [
    "import pandas as pd\n",
    "import sys\n",
    "\n",
    "sys.path.append(\"../network\")\n",
    "from NguyenNetwork import nguyenNetwork, latency, traffic"
   ]
  },
  {
   "cell_type": "code",
   "execution_count": 2,
   "metadata": {},
   "outputs": [],
   "source": [
    "'''\n",
    "Previously the data was loaded in the NguyenNetwork.py file.\n",
    "But it is better to load them where we want to use them. \n",
    "'''\n",
    "# Read the CSV file into a DataFrame\n",
    "data_types = {\"start node\": str, \"end node\": str} # node names should be str\n",
    "\n",
    "# for mac OS\n",
    "# links = pd.read_csv(\"../network/NguyenLinks.csv\", dtype=data_types)\n",
    "# demand = pd.read_csv(\"../network/NguyenDemand.csv\")\n",
    "\n",
    "# for windows\n",
    "links = pd.read_csv(\"..\\\\network\\\\NguyenDemand.csv\", dtype=data_types)\n",
    "demand = pd.read_csv(\"..\\\\network\\\\NguyenDemand.csv\")"
   ]
  },
  {
   "cell_type": "code",
   "execution_count": null,
   "metadata": {},
   "outputs": [],
   "source": [
    "network = nguyenNetwork(links=links)\n",
    "traffic = traffic(demand)\n",
    "latency(flow= 12, links= links, link= 4) # link 4 and the flow of 12 is an example"
   ]
  }
 ],
 "metadata": {
  "kernelspec": {
   "display_name": "Python 3",
   "language": "python",
   "name": "python3"
  },
  "language_info": {
   "codemirror_mode": {
    "name": "ipython",
    "version": 3
   },
   "file_extension": ".py",
   "mimetype": "text/x-python",
   "name": "python",
   "nbconvert_exporter": "python",
   "pygments_lexer": "ipython3",
   "version": "3.11.6"
  }
 },
 "nbformat": 4,
 "nbformat_minor": 2
}
