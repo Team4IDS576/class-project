{
 "cells": [
  {
   "cell_type": "code",
   "execution_count": 4,
   "metadata": {},
   "outputs": [],
   "source": [
    "from pettingzoo.test import parallel_api_test\n",
    "\n",
    "import sys\n",
    "\n",
    "sys.path.append(\"../network\")\n",
    "sys.path.append(\"../environment\")\n",
    "#from NguyenNetwork import nguyenNetwork\n",
    "import NguyenNetworkEnv\n",
    "\n",
    "#net = nguyenNetwork"
   ]
  },
  {
   "cell_type": "code",
   "execution_count": 5,
   "metadata": {},
   "outputs": [
    {
     "ename": "TypeError",
     "evalue": "raw_env.__init__() missing 2 required positional arguments: 'net' and 'traffic'",
     "output_type": "error",
     "traceback": [
      "\u001b[0;31m---------------------------------------------------------------------------\u001b[0m",
      "\u001b[0;31mTypeError\u001b[0m                                 Traceback (most recent call last)",
      "\u001b[1;32m/Users/isaacsalvador/Documents/UIC/PhD/Fall 2023/git/class-project/notebooks/is-3.0-api_test.ipynb Cell 2\u001b[0m line \u001b[0;36m1\n\u001b[0;32m----> <a href='vscode-notebook-cell:/Users/isaacsalvador/Documents/UIC/PhD/Fall%202023/git/class-project/notebooks/is-3.0-api_test.ipynb#W2sZmlsZQ%3D%3D?line=0'>1</a>\u001b[0m env \u001b[39m=\u001b[39m NguyenNetworkEnv\u001b[39m.\u001b[39;49mparallel_env()\n",
      "File \u001b[0;32m/Library/Frameworks/Python.framework/Versions/3.12/lib/python3.12/site-packages/pettingzoo/utils/conversions.py:14\u001b[0m, in \u001b[0;36mparallel_wrapper_fn.<locals>.par_fn\u001b[0;34m(**kwargs)\u001b[0m\n\u001b[1;32m     13\u001b[0m \u001b[39mdef\u001b[39;00m \u001b[39mpar_fn\u001b[39m(\u001b[39m*\u001b[39m\u001b[39m*\u001b[39mkwargs):\n\u001b[0;32m---> 14\u001b[0m     env \u001b[39m=\u001b[39m env_fn(\u001b[39m*\u001b[39;49m\u001b[39m*\u001b[39;49mkwargs)\n\u001b[1;32m     15\u001b[0m     env \u001b[39m=\u001b[39m aec_to_parallel_wrapper(env)\n\u001b[1;32m     16\u001b[0m     \u001b[39mreturn\u001b[39;00m env\n",
      "File \u001b[0;32m~/Documents/UIC/PhD/Fall 2023/git/class-project/notebooks/../environment/NguyenNetworkEnv.py:34\u001b[0m, in \u001b[0;36menv\u001b[0;34m(**kwargs)\u001b[0m\n\u001b[1;32m     33\u001b[0m \u001b[39mdef\u001b[39;00m \u001b[39menv\u001b[39m(\u001b[39m*\u001b[39m\u001b[39m*\u001b[39mkwargs):\n\u001b[0;32m---> 34\u001b[0m     env \u001b[39m=\u001b[39m raw_env(\u001b[39m*\u001b[39;49m\u001b[39m*\u001b[39;49mkwargs)\n\u001b[1;32m     35\u001b[0m     \u001b[39mreturn\u001b[39;00m env\n",
      "\u001b[0;31mTypeError\u001b[0m: raw_env.__init__() missing 2 required positional arguments: 'net' and 'traffic'"
     ]
    }
   ],
   "source": [
    "env = NguyenNetworkEnv.parallel_env(net, traffic)\n",
    "\n",
    "parallel_api_test(env, num_cycles=10)"
   ]
  },
  {
   "cell_type": "code",
   "execution_count": null,
   "metadata": {},
   "outputs": [],
   "source": [
    "while env.agents:\n",
    "    # this is where you would insert your policy\n",
    "    actions = {agent: env.action_space(agent).sample() for agent in env.agents}\n",
    "\n",
    "    observations, rewards, terminations, truncations, infos = env.step(actions)\n",
    "env.close()"
   ]
  }
 ],
 "metadata": {
  "kernelspec": {
   "display_name": "Python 3",
   "language": "python",
   "name": "python3"
  },
  "language_info": {
   "codemirror_mode": {
    "name": "ipython",
    "version": 3
   },
   "file_extension": ".py",
   "mimetype": "text/x-python",
   "name": "python",
   "nbconvert_exporter": "python",
   "pygments_lexer": "ipython3",
   "version": "3.12.0"
  }
 },
 "nbformat": 4,
 "nbformat_minor": 2
}
