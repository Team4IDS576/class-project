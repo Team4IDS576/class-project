{
 "cells": [
  {
   "cell_type": "code",
   "execution_count": 2,
   "metadata": {},
   "outputs": [
    {
     "ename": "ModuleNotFoundError",
     "evalue": "No module named 'network'",
     "output_type": "error",
     "traceback": [
      "\u001b[0;31m---------------------------------------------------------------------------\u001b[0m",
      "\u001b[0;31mModuleNotFoundError\u001b[0m                       Traceback (most recent call last)",
      "\u001b[1;32m/Users/isaacsalvador/Documents/UIC/PhD/Fall 2023/git/class-project/notebooks/is-1.0-simulation.ipynb Cell 1\u001b[0m line \u001b[0;36m1\n\u001b[1;32m      <a href='vscode-notebook-cell:/Users/isaacsalvador/Documents/UIC/PhD/Fall%202023/git/class-project/notebooks/is-1.0-simulation.ipynb#W0sZmlsZQ%3D%3D?line=5'>6</a>\u001b[0m sim_path \u001b[39m=\u001b[39m os\u001b[39m.\u001b[39mpath\u001b[39m.\u001b[39mjoin(current_dir, \u001b[39m\"\u001b[39m\u001b[39m../simulation/\u001b[39m\u001b[39m\"\u001b[39m)\n\u001b[1;32m      <a href='vscode-notebook-cell:/Users/isaacsalvador/Documents/UIC/PhD/Fall%202023/git/class-project/notebooks/is-1.0-simulation.ipynb#W0sZmlsZQ%3D%3D?line=7'>8</a>\u001b[0m sys\u001b[39m.\u001b[39mpath\u001b[39m.\u001b[39mappend(sim_path)\n\u001b[0;32m---> <a href='vscode-notebook-cell:/Users/isaacsalvador/Documents/UIC/PhD/Fall%202023/git/class-project/notebooks/is-1.0-simulation.ipynb#W0sZmlsZQ%3D%3D?line=10'>11</a>\u001b[0m \u001b[39mfrom\u001b[39;00m \u001b[39mnetwork\u001b[39;00m \u001b[39mimport\u001b[39;00m edge\n",
      "\u001b[0;31mModuleNotFoundError\u001b[0m: No module named 'network'"
     ]
    }
   ],
   "source": [
    "import sys\n",
    "import os\n",
    "\n",
    "current_dir = os.path.dirname(os.path.abspath(\"\"))\n",
    "\n",
    "sim_path = os.path.join(current_dir, \"../simulation/\")\n",
    "\n",
    "sys.path.append(sim_path)\n",
    "\n",
    "\n",
    "from network import edge"
   ]
  },
  {
   "cell_type": "code",
   "execution_count": 1,
   "metadata": {},
   "outputs": [
    {
     "ename": "NameError",
     "evalue": "name 'os' is not defined",
     "output_type": "error",
     "traceback": [
      "\u001b[0;31m---------------------------------------------------------------------------\u001b[0m",
      "\u001b[0;31mNameError\u001b[0m                                 Traceback (most recent call last)",
      "\u001b[1;32m/Users/isaacsalvador/Documents/UIC/PhD/Fall 2023/git/class-project/notebooks/is-1.0-simulation.ipynb Cell 2\u001b[0m line \u001b[0;36m1\n\u001b[0;32m----> <a href='vscode-notebook-cell:/Users/isaacsalvador/Documents/UIC/PhD/Fall%202023/git/class-project/notebooks/is-1.0-simulation.ipynb#W1sZmlsZQ%3D%3D?line=0'>1</a>\u001b[0m os\u001b[39m.\u001b[39mcwd()\n",
      "\u001b[0;31mNameError\u001b[0m: name 'os' is not defined"
     ]
    }
   ],
   "source": [
    "os.cwd()"
   ]
  }
 ],
 "metadata": {
  "kernelspec": {
   "display_name": "Python 3",
   "language": "python",
   "name": "python3"
  },
  "language_info": {
   "codemirror_mode": {
    "name": "ipython",
    "version": 3
   },
   "file_extension": ".py",
   "mimetype": "text/x-python",
   "name": "python",
   "nbconvert_exporter": "python",
   "pygments_lexer": "ipython3",
   "version": "3.11.5"
  }
 },
 "nbformat": 4,
 "nbformat_minor": 2
}
