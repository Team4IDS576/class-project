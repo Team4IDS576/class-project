{
 "cells": [
  {
   "cell_type": "markdown",
   "metadata": {},
   "source": [
    "# IDS 576 Team 4 Intermediate Code Report\n",
    "Our Multi-Agent Reinforcement Learning (MARL) simulation is comprised of multiple parts and in order to matain the highest degree of control we have decided to build our simulation environment from the ground up. \n",
    "\n",
    "If you are interested in further details regarding our source code please see the Team 4's project repo: https://github.com/Team4IDS576/class-project/tree/main\n",
    "\n",
    "## Simulation Environment\n",
    "In order to run our MARL traffic assignment simulation we have created the following `edge`, `node`, and `roadnet` classes that we can use to represent real-world transportation networks."
   ]
  },
  {
   "cell_type": "code",
   "execution_count": 1,
   "metadata": {},
   "outputs": [],
   "source": [
    "import sys\n",
    "\n",
    "sys.path.append(\"../simulation\")\n",
    "\n",
    "from network import edge, node, roadnet"
   ]
  },
  {
   "cell_type": "markdown",
   "metadata": {},
   "source": [
    "The first class is the `edge` class, which is used to represent road segments of the network. An instance of this class is instatied with an integer `id`, tuple coordinates representing the vertices `v1` and `v2` of the segment, and a `speed_limit`. The `info()` method returns a list of attributes related to the segment and the class interally stores data related to the geospatial properties.\n",
    "\n",
    " This class will be improved in the future to contain instance variables related to network traffic and agents along the segment during the simulation."
   ]
  },
  {
   "cell_type": "code",
   "execution_count": 2,
   "metadata": {},
   "outputs": [
    {
     "name": "stdout",
     "output_type": "stream",
     "text": [
      "id, length, angle_degrees, speed_limit\n",
      "[0, 14.142135623730951, 45.0, 45]\n",
      "[1, 10.0, -90.0, 30]\n"
     ]
    }
   ],
   "source": [
    "example_edge = edge(0, (0,0), (10,10), 45)\n",
    "example_edge2 = edge(1, (10,0), (0,0), 30)\n",
    "\n",
    "print(\"id, length, angle_degrees, speed_limit\")\n",
    "print(example_edge.info())\n",
    "print(example_edge2.info())"
   ]
  },
  {
   "cell_type": "markdown",
   "metadata": {},
   "source": [
    "The `node` class was constructed to represent intersections in network. When an agent reaches a `node` they will be tasked with deciding which `edge` segment to take to reach their destination.\n",
    "\n",
    "The class is instantiated with only an `id` and `location` tuple, and interfaces with `edge` objects to store the relational attributes of the network. Note that the `add_edge()` method will only add an `edge` object that shares a vertex with the `node`.\n",
    "\n",
    "The `summary()` is used debugging purposes to verify that road segments have been succesfully connected to an intersection."
   ]
  },
  {
   "cell_type": "code",
   "execution_count": 3,
   "metadata": {},
   "outputs": [
    {
     "name": "stdout",
     "output_type": "stream",
     "text": [
      "Node id: 0\n",
      "Connected Edges:\n",
      "edge id: 0\tVertex: v1\n",
      "edge id: 1\tVertex: v2\n"
     ]
    }
   ],
   "source": [
    "example_node = node(0, (0,0))\n",
    "\n",
    "example_node.add_edge(example_edge)\n",
    "example_node.add_edge(example_edge2)\n",
    "\n",
    "example_node.summary()"
   ]
  },
  {
   "cell_type": "markdown",
   "metadata": {},
   "source": [
    "The main class `roadnet()` is the main component of the simulation enviornment, and is used to construct the final transportation network for simulation. The utility methods `add_edges()` and `add_nodes` are used to load the input classes in bulk for effecient network building that can be easily integrated with external data sources such as Geographic Information Systems (GIS) dBASE tables. Following instatiation and and the addition of `node` and `edge` objects the `build` methods connects the network."
   ]
  },
  {
   "cell_type": "code",
   "execution_count": 4,
   "metadata": {},
   "outputs": [],
   "source": [
    "roads = [\n",
    "    edge(0, (0,0), (0,10)),\n",
    "    edge(1, (0,10), (10,10)),\n",
    "    edge(2, (10,10), (10, 0)),\n",
    "    edge(3, (10, 0), (0,0))\n",
    "]\n",
    "\n",
    "intersections = [\n",
    "    node(0, (0,0)),\n",
    "    node(1, (0,10)),\n",
    "    node(2, (10, 0)),\n",
    "    node(3, (10,10))\n",
    "]\n",
    "\n",
    "test_net = roadnet()\n",
    "test_net.add_edges(roads)\n",
    "test_net.add_nodes(intersections)\n",
    "test_net.build()"
   ]
  },
  {
   "cell_type": "markdown",
   "metadata": {},
   "source": [
    "The following methods returns metrics about the completed `roadnet()` object and the debugging tool `wireframe()` allows us to easily visualize the network and check for missing items and errors in the construction process."
   ]
  },
  {
   "cell_type": "code",
   "execution_count": 7,
   "metadata": {},
   "outputs": [
    {
     "name": "stdout",
     "output_type": "stream",
     "text": [
      "id\tstart_x\tstart_y\tend_x\tend_y\tlength\n",
      "0\t0\t0\t0\t10\t10.0\n",
      "1\t0\t10\t10\t10\t10.0\n",
      "2\t10\t10\t10\t0\t10.0\n",
      "3\t10\t0\t0\t0\t10.0\n",
      "node id\tlocation\tconnected_edges\n",
      "0\t(0, 0)\t2\n",
      "1\t(0, 10)\t2\n",
      "2\t(10, 0)\t2\n",
      "3\t(10, 10)\t2\n"
     ]
    },
    {
     "data": {
      "image/png": "[encoded data removed]",
      "text/plain": [
       "<Figure size 1000x1000 with 1 Axes>"
      ]
     },
     "metadata": {},
     "output_type": "display_data"
    }
   ],
   "source": [
    "test_net.edge_states_summary()\n",
    "test_net.node_states_summary()\n",
    "test_net.wireframe()"
   ]
  }
 ],
 "metadata": {
  "kernelspec": {
   "display_name": "Python 3",
   "language": "python",
   "name": "python3"
  },
  "language_info": {
   "codemirror_mode": {
    "name": "ipython",
    "version": 3
   },
   "file_extension": ".py",
   "mimetype": "text/x-python",
   "name": "python",
   "nbconvert_exporter": "python",
   "pygments_lexer": "ipython3",
   "version": "3.11.5"
  }
 },
 "nbformat": 4,
 "nbformat_minor": 2
}
